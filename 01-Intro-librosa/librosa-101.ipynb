{
  "cells": [
    {
      "cell_type": "markdown",
      "metadata": {
        "id": "view-in-github",
        "colab_type": "text"
      },
      "source": [
        "<a href=\"https://colab.research.google.com/github/Ziforge/CollabLibrosaParty/blob/main/01-Intro-librosa/librosa-101.ipynb\" target=\"_parent\"><img src=\"https://colab.research.google.com/assets/colab-badge.svg\" alt=\"Open In Colab\"/></a>"
      ]
    },
    {
      "cell_type": "code",
      "source": [],
      "metadata": {
        "id": "IMZMEPXn7FVv"
      },
      "execution_count": 5,
      "outputs": []
    },
    {
      "cell_type": "code",
      "source": [],
      "metadata": {
        "id": "65D85cUu8QYb"
      },
      "execution_count": null,
      "outputs": []
    },
    {
      "cell_type": "markdown",
      "metadata": {
        "id": "v68EQxQ0vtU2"
      },
      "source": [
        "LIBROSA 101\n",
        "===\n",
        "\n",
        "# Quickstart: Hellobeat"
      ]
    },
    {
      "cell_type": "code",
      "execution_count": 6,
      "metadata": {
        "colab": {
          "base_uri": "https://localhost:8080/",
          "height": 180
        },
        "id": "BqWu7gP5vtU3",
        "outputId": "aaafbc79-564f-4ed3-a250-a269c613f02f"
      },
      "outputs": [
        {
          "output_type": "error",
          "ename": "TypeError",
          "evalue": "unsupported format string passed to numpy.ndarray.__format__",
          "traceback": [
            "\u001b[0;31m---------------------------------------------------------------------------\u001b[0m",
            "\u001b[0;31mTypeError\u001b[0m                                 Traceback (most recent call last)",
            "\u001b[0;32m<ipython-input-6-9a48555b1ba8>\u001b[0m in \u001b[0;36m<cell line: 0>\u001b[0;34m()\u001b[0m\n\u001b[1;32m     12\u001b[0m \u001b[0mtempo\u001b[0m\u001b[0;34m,\u001b[0m \u001b[0mbeat_frames\u001b[0m \u001b[0;34m=\u001b[0m \u001b[0mlibrosa\u001b[0m\u001b[0;34m.\u001b[0m\u001b[0mbeat\u001b[0m\u001b[0;34m.\u001b[0m\u001b[0mbeat_track\u001b[0m\u001b[0;34m(\u001b[0m\u001b[0my\u001b[0m\u001b[0;34m=\u001b[0m\u001b[0my\u001b[0m\u001b[0;34m,\u001b[0m \u001b[0msr\u001b[0m\u001b[0;34m=\u001b[0m\u001b[0msr\u001b[0m\u001b[0;34m)\u001b[0m\u001b[0;34m\u001b[0m\u001b[0;34m\u001b[0m\u001b[0m\n\u001b[1;32m     13\u001b[0m \u001b[0;34m\u001b[0m\u001b[0m\n\u001b[0;32m---> 14\u001b[0;31m \u001b[0mprint\u001b[0m\u001b[0;34m(\u001b[0m\u001b[0;34m'Estimated tempo: {:.2f} beats per minute'\u001b[0m\u001b[0;34m.\u001b[0m\u001b[0mformat\u001b[0m\u001b[0;34m(\u001b[0m\u001b[0mtempo\u001b[0m\u001b[0;34m)\u001b[0m\u001b[0;34m)\u001b[0m\u001b[0;34m\u001b[0m\u001b[0;34m\u001b[0m\u001b[0m\n\u001b[0m",
            "\u001b[0;31mTypeError\u001b[0m: unsupported format string passed to numpy.ndarray.__format__"
          ]
        }
      ],
      "source": [
        "import librosa\n",
        "import numpy as np\n",
        "\n",
        "# Load a Librosa example\n",
        "filename = librosa.example('nutcracker')\n",
        "\n",
        "# Load the audio as a waveform `y`\n",
        "# Store the sampling rate as `sr`\n",
        "y, sr = librosa.load(filename)\n",
        "\n",
        "#3. Run the default beat tracker, frames are centered\n",
        "tempo, beat_frames = librosa.beat.beat_track(y=y, sr=sr)\n",
        "\n",
        "print('Estimated tempo: {:.2f} beats per minute'.format(tempo))\n"
      ]
    },
    {
      "cell_type": "code",
      "execution_count": null,
      "metadata": {
        "id": "u2Pe_uKSvtU4"
      },
      "outputs": [],
      "source": [
        "# 4. Convert the frame indices of beat events into timestamps\n",
        "beat_times = librosa.frames_to_time(beat_frames, sr=sr)\n"
      ]
    },
    {
      "cell_type": "markdown",
      "metadata": {
        "id": "EexK5QXSvtU4"
      },
      "source": [
        "# Advanced usage: Feature extraction\n"
      ]
    },
    {
      "cell_type": "code",
      "execution_count": null,
      "metadata": {
        "id": "gkHoWAKTvtU4"
      },
      "outputs": [],
      "source": [
        "# Set the hop length; at 22050 Hz, 512 samples ~= 23ms\n",
        "hop_length = 512\n",
        "\n",
        "# Seperate harmonics and percussives into two waveforms\n",
        "y_harmonic, y_percussive = librosa.effects.hpss(y)\n",
        "\n",
        "# Beat track on the percussive signal\n",
        "tempo, beat_frames = librosa.beat.beat_track(y=y_percussive, sr=sr)\n",
        "\n",
        "# here comes the feature module\n",
        "# Compute MFCC features from the raw signal\n",
        "mfcc = librosa.feature.mfcc(y=y, sr=sr, n_mfcc=13, hop_length=hop_length)\n",
        "\n",
        "# And the first-order differences (delta features)\n",
        "mfcc_delta = librosa.feature.delta(mfcc)\n",
        "\n",
        "# Stack and synchronize between beat events\n",
        "# use the mean value (default) instead of median\n",
        "beat_mfcc_delta = librosa.util.sync(np.vstack([mfcc, mfcc_delta]), beat_frames)\n",
        "\n",
        "\n"
      ]
    },
    {
      "cell_type": "code",
      "execution_count": null,
      "metadata": {
        "id": "hLHl1B9nvtU4"
      },
      "outputs": [],
      "source": [
        "# Compute chroma features from the harmonic signal, sync by median, and vertically stack\n",
        "beat_chroma = librosa.util.sync(librosa.feature.chroma_cqt(y=y_harmonic, sr=sr), beat_frames, aggregate=np.median)\n"
      ]
    },
    {
      "cell_type": "code",
      "execution_count": null,
      "metadata": {
        "id": "nDKQqNVQvtU4"
      },
      "outputs": [],
      "source": [
        "# Now visalize the beats in a short segment the best way you can\n",
        "import matplotlib.pyplot as plt\n",
        "import librosa.display\n",
        "\n",
        "plt.figure(figsize=(12, 6))\n",
        "# Let's draw a chromagram with beat-synchronous mean\n",
        "plt.subplot(2,1,1)\n",
        "librosa.display.specshow(beat_chroma, y_axis='chroma')\n",
        "plt.colorbar()\n",
        "plt.title('Chromagram')\n",
        "plt.subplot(2,1,2)\n",
        "librosa.display.specshow(beat_mfcc_delta, x_axis='time')\n",
        "plt.colorbar()\n",
        "plt.title('MFCC+$\\Delta$')\n",
        "plt.tight_layout()\n",
        "plt.show()\n"
      ]
    },
    {
      "cell_type": "code",
      "execution_count": null,
      "metadata": {
        "id": "Cd4pqbc9vtU4"
      },
      "outputs": [],
      "source": [
        "# Plot the waveform\n",
        "plt.figure(figsize=(12, 6))\n",
        "plt.subplot(2, 1, 1)\n",
        "librosa.display.waveshow(y, sr=sr)\n",
        "plt.title('Waveform')\n",
        "\n",
        "# Plot the beats on the MFCC subfigure\n",
        "plt.subplot(2, 1, 2)\n",
        "librosa.display.specshow(beat_mfcc_delta, x_axis='time')\n",
        "plt.colorbar()\n",
        "plt.title('MFCC+$\\Delta$')\n",
        "\n",
        "# Plot the beats\n",
        "plt.vlines(librosa.frames_to_time(beat_frames, sr=sr), plt.ylim()[0], plt.ylim()[1], color='r', alpha=0.7, linestyle='--', label='Beats')\n",
        "\n",
        "plt.legend()\n",
        "plt.tight_layout()\n",
        "plt.show()\n"
      ]
    }
  ],
  "metadata": {
    "kernelspec": {
      "display_name": "base",
      "language": "python",
      "name": "python3"
    },
    "language_info": {
      "codemirror_mode": {
        "name": "ipython",
        "version": 3
      },
      "file_extension": ".py",
      "mimetype": "text/x-python",
      "name": "python",
      "nbconvert_exporter": "python",
      "pygments_lexer": "ipython3",
      "version": "3.9.7"
    },
    "colab": {
      "provenance": [],
      "include_colab_link": true
    }
  },
  "nbformat": 4,
  "nbformat_minor": 0
}